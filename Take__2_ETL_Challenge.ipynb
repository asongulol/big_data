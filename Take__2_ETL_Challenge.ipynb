{
  "nbformat": 4,
  "nbformat_minor": 0,
  "metadata": {
    "colab": {
      "name": "Take_ 2_ETL_Challenge.ipynb",
      "provenance": [],
      "authorship_tag": "ABX9TyNjZQgqFFeXRPHzOnUH7mOo",
      "include_colab_link": true
    },
    "kernelspec": {
      "name": "python3",
      "display_name": "Python 3"
    }
  },
  "cells": [
    {
      "cell_type": "markdown",
      "metadata": {
        "id": "view-in-github",
        "colab_type": "text"
      },
      "source": [
        "<a href=\"https://colab.research.google.com/github/asongulol/big_data/blob/master/Take__2_ETL_Challenge.ipynb\" target=\"_parent\"><img src=\"https://colab.research.google.com/assets/colab-badge.svg\" alt=\"Open In Colab\"/></a>"
      ]
    },
    {
      "cell_type": "code",
      "metadata": {
        "id": "VqQpSN1yivCU",
        "colab_type": "code",
        "colab": {
          "base_uri": "https://localhost:8080/",
          "height": 272
        },
        "outputId": "a21dd142-9266-44bd-d560-9e8770976bb0"
      },
      "source": [
        "import os\n",
        "# Find the latest version of spark 2.0  from http://www-us.apache.org/dist/spark/ and enter as the spark version\n",
        "# For example:\n",
        "# spark_version = 'spark-2.4.6'\n",
        "spark_version = 'spark-2.4.6'\n",
        "os.environ['SPARK_VERSION']=spark_version\n",
        "\n",
        "# Install Spark and Java\n",
        "!apt-get update\n",
        "!apt-get install openjdk-8-jdk-headless -qq > /dev/null\n",
        "!wget -q http://www-us.apache.org/dist/spark/$SPARK_VERSION/$SPARK_VERSION-bin-hadoop2.7.tgz\n",
        "!tar xf $SPARK_VERSION-bin-hadoop2.7.tgz\n",
        "!pip install -q findspark\n",
        "\n",
        "# Set Environment Variables\n",
        "import os\n",
        "os.environ[\"JAVA_HOME\"] = \"/usr/lib/jvm/java-8-openjdk-amd64\"\n",
        "os.environ[\"SPARK_HOME\"] = f\"/content/{spark_version}-bin-hadoop2.7\"\n",
        "\n",
        "# Start a SparkSession\n",
        "import findspark\n",
        "findspark.init()"
      ],
      "execution_count": 1,
      "outputs": [
        {
          "output_type": "stream",
          "text": [
            "\r0% [Working]\r            \rGet:1 http://security.ubuntu.com/ubuntu bionic-security InRelease [88.7 kB]\n",
            "\r0% [Waiting for headers] [1 InRelease 14.2 kB/88.7 kB 16%] [Connected to cloud.\r                                                                               \rHit:2 http://ppa.launchpad.net/graphics-drivers/ppa/ubuntu bionic InRelease\n",
            "\r0% [Waiting for headers] [1 InRelease 43.1 kB/88.7 kB 49%] [Connected to cloud.\r                                                                               \rHit:3 http://archive.ubuntu.com/ubuntu bionic InRelease\n",
            "\r0% [Waiting for headers] [1 InRelease 43.1 kB/88.7 kB 49%] [Connected to cloud.\r0% [2 InRelease gpgv 21.3 kB] [Waiting for headers] [1 InRelease 43.1 kB/88.7 k\r                                                                               \rGet:4 http://archive.ubuntu.com/ubuntu bionic-updates InRelease [88.7 kB]\n",
            "\r0% [2 InRelease gpgv 21.3 kB] [4 InRelease 14.2 kB/88.7 kB 16%] [1 InRelease 50\r0% [2 InRelease gpgv 21.3 kB] [4 InRelease 15.6 kB/88.7 kB 18%] [Connected to c\r                                                                               \rGet:5 http://ppa.launchpad.net/marutter/c2d4u3.5/ubuntu bionic InRelease [15.4 kB]\n",
            "\r0% [2 InRelease gpgv 21.3 kB] [4 InRelease 15.6 kB/88.7 kB 18%] [Connected to c\r0% [2 InRelease gpgv 21.3 kB] [4 InRelease 15.6 kB/88.7 kB 18%] [Connected to c\r0% [2 InRelease gpgv 21.3 kB] [Waiting for headers] [Connected to cloud.r-proje\r                                                                               \rGet:6 http://archive.ubuntu.com/ubuntu bionic-backports InRelease [74.6 kB]\n",
            "Get:7 https://cloud.r-project.org/bin/linux/ubuntu bionic-cran35/ InRelease [3,626 B]\n",
            "Ign:8 https://developer.download.nvidia.com/compute/cuda/repos/ubuntu1804/x86_64  InRelease\n",
            "Ign:9 https://developer.download.nvidia.com/compute/machine-learning/repos/ubuntu1804/x86_64  InRelease\n",
            "Hit:10 https://developer.download.nvidia.com/compute/cuda/repos/ubuntu1804/x86_64  Release\n",
            "Hit:11 https://developer.download.nvidia.com/compute/machine-learning/repos/ubuntu1804/x86_64  Release\n",
            "Get:12 http://ppa.launchpad.net/marutter/c2d4u3.5/ubuntu bionic/main Sources [1,864 kB]\n",
            "Get:13 http://ppa.launchpad.net/marutter/c2d4u3.5/ubuntu bionic/main amd64 Packages [900 kB]\n",
            "Fetched 3,035 kB in 2s (1,638 kB/s)\n",
            "Reading package lists... Done\n"
          ],
          "name": "stdout"
        }
      ]
    },
    {
      "cell_type": "code",
      "metadata": {
        "id": "tyuKP0deNAYL",
        "colab_type": "code",
        "colab": {
          "base_uri": "https://localhost:8080/",
          "height": 204
        },
        "outputId": "1d5bbad5-afd6-4cef-966f-78d761a4559d"
      },
      "source": [
        "# Download Postgresql driver\n",
        "!wget https://jdbc.postgresql.org/download/postgresql-42.2.9.jar"
      ],
      "execution_count": 2,
      "outputs": [
        {
          "output_type": "stream",
          "text": [
            "--2020-09-01 19:05:55--  https://jdbc.postgresql.org/download/postgresql-42.2.9.jar\n",
            "Resolving jdbc.postgresql.org (jdbc.postgresql.org)... 72.32.157.228, 2001:4800:3e1:1::228\n",
            "Connecting to jdbc.postgresql.org (jdbc.postgresql.org)|72.32.157.228|:443... connected.\n",
            "HTTP request sent, awaiting response... 200 OK\n",
            "Length: 914037 (893K) [application/java-archive]\n",
            "Saving to: ‘postgresql-42.2.9.jar.1’\n",
            "\n",
            "postgresql-42.2.9.j 100%[===================>] 892.61K  1.43MB/s    in 0.6s    \n",
            "\n",
            "2020-09-01 19:05:56 (1.43 MB/s) - ‘postgresql-42.2.9.jar.1’ saved [914037/914037]\n",
            "\n"
          ],
          "name": "stdout"
        }
      ]
    },
    {
      "cell_type": "code",
      "metadata": {
        "id": "XRRFc48JA2mb",
        "colab_type": "code",
        "colab": {}
      },
      "source": [
        "# Start Spark session\n",
        "from pyspark.sql import SparkSession\n",
        "spark = SparkSession.builder.appName(\"Challenge\").config(\"spark.driver.extraClassPath\",\"/content/postgresql-42.2.9.jar\").getOrCreate()"
      ],
      "execution_count": 3,
      "outputs": []
    },
    {
      "cell_type": "code",
      "metadata": {
        "id": "AYjIkKYa0RUs",
        "colab_type": "code",
        "colab": {}
      },
      "source": [
        "from pyspark.ml.feature import HashingTF, IDF, Tokenizer, StopWordsRemover"
      ],
      "execution_count": 4,
      "outputs": []
    },
    {
      "cell_type": "markdown",
      "metadata": {
        "id": "NMq3jYDyiNpR",
        "colab_type": "text"
      },
      "source": [
        "# Extract Transform and Load (ETL)"
      ]
    },
    {
      "cell_type": "markdown",
      "metadata": {
        "id": "5O2Hf28ribuH",
        "colab_type": "text"
      },
      "source": [
        "## Extract"
      ]
    },
    {
      "cell_type": "code",
      "metadata": {
        "id": "RSlj0Lgr0YKO",
        "colab_type": "code",
        "colab": {
          "base_uri": "https://localhost:8080/",
          "height": 479
        },
        "outputId": "7a99914b-a0a3-4ca7-9a7d-91e227ed0bfc"
      },
      "source": [
        "# Read in data from S3 Buckets\n",
        "from pyspark import SparkFiles\n",
        "url =\"https://s3.amazonaws.com/amazon-reviews-pds/tsv/amazon_reviews_us_Electronics_v1_00.tsv.gz\"\n",
        "spark.sparkContext.addFile(url)\n",
        "\n",
        "# Create a dataframe\n",
        "df = spark.read.option('header', 'true').csv(SparkFiles.get(\"amazon_reviews_us_Electronics_v1_00.tsv.gz\"), inferSchema=True, sep=\"\\t\", timestampFormat=\"yyyy-mm-dd\", header=True)\n",
        "\n",
        "# Show DataFrame\n",
        "df.show()"
      ],
      "execution_count": 5,
      "outputs": [
        {
          "output_type": "stream",
          "text": [
            "+-----------+-----------+--------------+----------+--------------+--------------------+----------------+-----------+-------------+-----------+----+-----------------+--------------------+--------------------+-------------------+\n",
            "|marketplace|customer_id|     review_id|product_id|product_parent|       product_title|product_category|star_rating|helpful_votes|total_votes|vine|verified_purchase|     review_headline|         review_body|        review_date|\n",
            "+-----------+-----------+--------------+----------+--------------+--------------------+----------------+-----------+-------------+-----------+----+-----------------+--------------------+--------------------+-------------------+\n",
            "|         US|   41409413|R2MTG1GCZLR2DK|B00428R89M|     112201306|yoomall 5M Antenn...|     Electronics|          5|            0|          0|   N|                Y|          Five Stars|       As described.|2015-01-31 00:08:00|\n",
            "|         US|   49668221|R2HBOEM8LE9928|B000068O48|     734576678|Hosa GPM-103 3.5m...|     Electronics|          5|            0|          0|   N|                Y|It works as adver...|It works as adver...|2015-01-31 00:08:00|\n",
            "|         US|   12338275|R1P4RW1R9FDPEE|B000GGKOG8|     614448099|Channel Master Ti...|     Electronics|          5|            1|          1|   N|                Y|          Five Stars|         Works pissa|2015-01-31 00:08:00|\n",
            "|         US|   38487968|R1EBPM82ENI67M|B000NU4OTA|      72265257|LIMTECH Wall char...|     Electronics|          1|            0|          0|   N|                Y|            One Star|Did not work at all.|2015-01-31 00:08:00|\n",
            "|         US|   23732619|R372S58V6D11AT|B00JOQIO6S|     308169188|Skullcandy Air Ra...|     Electronics|          5|            1|          1|   N|                Y|Overall pleased w...|Works well. Bass ...|2015-01-31 00:08:00|\n",
            "|         US|   21257820|R1A4514XOYI1PD|B008NCD2LG|     976385982|Pioneer SP-BS22-L...|     Electronics|          5|            1|          1|   N|                Y|          Five Stars|The quality on th...|2015-01-31 00:08:00|\n",
            "|         US|    3084991|R20D9EHB7N20V6|B00007FGUF|     670878953|C2G/Cables to Go ...|     Electronics|          5|            0|          0|   N|                Y|           Lifesaver|Wish I could give...|2015-01-31 00:08:00|\n",
            "|         US|    8153674|R1WUTD8MVSROJU|B00M9V2RMM|     508452933|COOLEAD-HDMI Swit...|     Electronics|          5|            0|          0|   N|                Y|          Five Stars|         works great|2015-01-31 00:08:00|\n",
            "|         US|   52246189|R1QCYLT25812DM|B00J3O9DYI|     766372886|Philips Wireless ...|     Electronics|          4|            0|          0|   N|                Y|          Four Stars|Great sound and c...|2015-01-31 00:08:00|\n",
            "|         US|   41463864| R904DQPBCEM7A|B00NS1A0E4|     458130381|PlayStation 3 3D ...|     Electronics|          4|            0|          0|   N|                Y|          Four Stars|    It works well~~~|2015-01-31 00:08:00|\n",
            "|         US|    2781942|R1DGA6UQIVLKZ7|B007B5V092|     152891509|JVC HAFR201A Xtre...|     Electronics|          5|            0|          0|   N|                Y|          Five Stars|           Alll good|2015-01-31 00:08:00|\n",
            "|         US|     707292| RLQT3V8SMNIBH|B00IODHGVG|     717335277|Sylvania Alarm Cl...|     Electronics|          5|            0|          0|   N|                Y|          Five Stars|Love clock radio ...|2015-01-31 00:08:00|\n",
            "|         US|   31463514|R3T9GZS2TMXZGM|B0035PBHX6|     249533961|Coby 8 GB 1.8-Inc...|     Electronics|          1|            0|          0|   N|                Y|            One Star|Breaks very easil...|2015-01-31 00:08:00|\n",
            "|         US|   33475055|R24HVAEYP5PLDN|B00K1JJWFO|     635791633|Diamond (Original...|     Electronics|          5|            0|          1|   N|                Y|          Five Stars|Excellent gain in...|2015-01-31 00:08:00|\n",
            "|         US|   16543871|R32KMAPNV5NJPJ|B00S3LJ5EA|     659360184|Kingvom 8gb 50 Ho...|     Electronics|          5|            0|          0|   N|                Y|          Five Stars|everything I expe...|2015-01-31 00:08:00|\n",
            "|         US|   38472651| RC7VLPHUT6UAF|B00B5QNGN6|     564421014|JBL Ultra-Portabl...|     Electronics|          5|            0|          0|   N|                Y|          Five Stars|Love this small s...|2015-01-31 00:08:00|\n",
            "|         US|   26946211|R3G1II8P4KGUAR|B00PLE8QF6|     685446417|YIPBOWPT Surface ...|     Electronics|          5|            0|          0|   N|                Y|       great product|works as advertis...|2015-01-31 00:08:00|\n",
            "|         US|   10195727|R1UBFCBUALL6S5|B00GHUSIU6|     595255086|StarTech.com Mini...|     Electronics|          5|            0|          0|   N|                Y|          Five Stars|very good especia...|2015-01-31 00:08:00|\n",
            "|         US|   47386264|R1WI5NISM6GAUG|B0045EJY90|     892920832|TEAC CD-P650-B Co...|     Electronics|          2|            4|          5|   N|                Y|It does not copy ...|It does not copy ...|2015-01-31 00:08:00|\n",
            "|         US|   13000908|R27F4OF4BIA4LU|B003BT6BM8|     631236454|Philips SHS8100/2...|     Electronics|          2|            1|          1|   N|                Y|Did not last long...|Did not last long...|2015-01-31 00:08:00|\n",
            "+-----------+-----------+--------------+----------+--------------+--------------------+----------------+-----------+-------------+-----------+----+-----------------+--------------------+--------------------+-------------------+\n",
            "only showing top 20 rows\n",
            "\n"
          ],
          "name": "stdout"
        }
      ]
    },
    {
      "cell_type": "markdown",
      "metadata": {
        "id": "lR-tee8fih8-",
        "colab_type": "text"
      },
      "source": [
        "## Transform"
      ]
    },
    {
      "cell_type": "code",
      "metadata": {
        "id": "jfyN4dC8QEbt",
        "colab_type": "code",
        "colab": {
          "base_uri": "https://localhost:8080/",
          "height": 34
        },
        "outputId": "e9432ae9-4e83-40ed-cec3-4e6a98a148a7"
      },
      "source": [
        "# Count number of rows\n",
        "df.count()"
      ],
      "execution_count": 6,
      "outputs": [
        {
          "output_type": "execute_result",
          "data": {
            "text/plain": [
              "3093869"
            ]
          },
          "metadata": {
            "tags": []
          },
          "execution_count": 6
        }
      ]
    },
    {
      "cell_type": "code",
      "metadata": {
        "id": "2p-81iX2bEgG",
        "colab_type": "code",
        "colab": {
          "base_uri": "https://localhost:8080/",
          "height": 34
        },
        "outputId": "441ca1c9-5624-4643-dc10-d57249740361"
      },
      "source": [
        "# Identify if there are enough Vine program reviews\n",
        "print(df[df['vine'] == 'Y'].count())"
      ],
      "execution_count": 7,
      "outputs": [
        {
          "output_type": "stream",
          "text": [
            "18512\n"
          ],
          "name": "stdout"
        }
      ]
    },
    {
      "cell_type": "code",
      "metadata": {
        "id": "0ea0b_fXQQ-t",
        "colab_type": "code",
        "colab": {
          "base_uri": "https://localhost:8080/",
          "height": 34
        },
        "outputId": "57f67c12-72ea-4f8d-87f0-c98c609962ad"
      },
      "source": [
        "# Drop null values\n",
        "df = df.dropna()\n",
        "\n",
        "print(df.count())"
      ],
      "execution_count": 8,
      "outputs": [
        {
          "output_type": "stream",
          "text": [
            "3093660\n"
          ],
          "name": "stdout"
        }
      ]
    },
    {
      "cell_type": "code",
      "metadata": {
        "id": "xIiKDR32QuTM",
        "colab_type": "code",
        "colab": {
          "base_uri": "https://localhost:8080/",
          "height": 306
        },
        "outputId": "58f1f39e-03af-4665-95c1-025441680d88"
      },
      "source": [
        "# Print schema\n",
        "df.printSchema()"
      ],
      "execution_count": 9,
      "outputs": [
        {
          "output_type": "stream",
          "text": [
            "root\n",
            " |-- marketplace: string (nullable = true)\n",
            " |-- customer_id: integer (nullable = true)\n",
            " |-- review_id: string (nullable = true)\n",
            " |-- product_id: string (nullable = true)\n",
            " |-- product_parent: integer (nullable = true)\n",
            " |-- product_title: string (nullable = true)\n",
            " |-- product_category: string (nullable = true)\n",
            " |-- star_rating: integer (nullable = true)\n",
            " |-- helpful_votes: integer (nullable = true)\n",
            " |-- total_votes: integer (nullable = true)\n",
            " |-- vine: string (nullable = true)\n",
            " |-- verified_purchase: string (nullable = true)\n",
            " |-- review_headline: string (nullable = true)\n",
            " |-- review_body: string (nullable = true)\n",
            " |-- review_date: timestamp (nullable = true)\n",
            "\n"
          ],
          "name": "stdout"
        }
      ]
    },
    {
      "cell_type": "code",
      "metadata": {
        "id": "wT2WRxx6QVlv",
        "colab_type": "code",
        "colab": {
          "base_uri": "https://localhost:8080/",
          "height": 306
        },
        "outputId": "79d23af5-aa19-4c05-e65b-779042139b4b"
      },
      "source": [
        "# Change datatypes\n",
        "\n",
        "from pyspark.sql.types import TimestampType, IntegerType\n",
        "\n",
        "df = df.withColumn(\"customer_id\", df[\"customer_id\"].cast(IntegerType()))\\\n",
        "       .withColumn(\"product_parent\", df[\"product_parent\"].cast(IntegerType()))\\\n",
        "       .withColumn(\"review_date\", df[\"review_date\"].cast(TimestampType()))\\\n",
        "       .withColumn(\"star_rating\", df[\"star_rating\"].cast(IntegerType()))\\\n",
        "       .withColumn(\"helpful_votes\", df[\"helpful_votes\"].cast(IntegerType()))\\\n",
        "      .withColumn(\"total_votes\", df[\"total_votes\"].cast(IntegerType()))\\\n",
        "\n",
        "# Print schema\n",
        "df.printSchema()"
      ],
      "execution_count": 10,
      "outputs": [
        {
          "output_type": "stream",
          "text": [
            "root\n",
            " |-- marketplace: string (nullable = true)\n",
            " |-- customer_id: integer (nullable = true)\n",
            " |-- review_id: string (nullable = true)\n",
            " |-- product_id: string (nullable = true)\n",
            " |-- product_parent: integer (nullable = true)\n",
            " |-- product_title: string (nullable = true)\n",
            " |-- product_category: string (nullable = true)\n",
            " |-- star_rating: integer (nullable = true)\n",
            " |-- helpful_votes: integer (nullable = true)\n",
            " |-- total_votes: integer (nullable = true)\n",
            " |-- vine: string (nullable = true)\n",
            " |-- verified_purchase: string (nullable = true)\n",
            " |-- review_headline: string (nullable = true)\n",
            " |-- review_body: string (nullable = true)\n",
            " |-- review_date: timestamp (nullable = true)\n",
            "\n"
          ],
          "name": "stdout"
        }
      ]
    },
    {
      "cell_type": "code",
      "metadata": {
        "id": "xylu9v5ZSGe-",
        "colab_type": "code",
        "colab": {
          "base_uri": "https://localhost:8080/",
          "height": 459
        },
        "outputId": "208ca950-97a6-4926-b887-281823d025a4"
      },
      "source": [
        "# Create review dataframe to match review_id_table table\n",
        "review_id_df = df.select([\"review_id\",\"customer_id\",\"product_id\", \"product_parent\",\"review_date\"])\n",
        "review_id_df.show()"
      ],
      "execution_count": 11,
      "outputs": [
        {
          "output_type": "stream",
          "text": [
            "+--------------+-----------+----------+--------------+-------------------+\n",
            "|     review_id|customer_id|product_id|product_parent|        review_date|\n",
            "+--------------+-----------+----------+--------------+-------------------+\n",
            "|R2MTG1GCZLR2DK|   41409413|B00428R89M|     112201306|2015-01-31 00:08:00|\n",
            "|R2HBOEM8LE9928|   49668221|B000068O48|     734576678|2015-01-31 00:08:00|\n",
            "|R1P4RW1R9FDPEE|   12338275|B000GGKOG8|     614448099|2015-01-31 00:08:00|\n",
            "|R1EBPM82ENI67M|   38487968|B000NU4OTA|      72265257|2015-01-31 00:08:00|\n",
            "|R372S58V6D11AT|   23732619|B00JOQIO6S|     308169188|2015-01-31 00:08:00|\n",
            "|R1A4514XOYI1PD|   21257820|B008NCD2LG|     976385982|2015-01-31 00:08:00|\n",
            "|R20D9EHB7N20V6|    3084991|B00007FGUF|     670878953|2015-01-31 00:08:00|\n",
            "|R1WUTD8MVSROJU|    8153674|B00M9V2RMM|     508452933|2015-01-31 00:08:00|\n",
            "|R1QCYLT25812DM|   52246189|B00J3O9DYI|     766372886|2015-01-31 00:08:00|\n",
            "| R904DQPBCEM7A|   41463864|B00NS1A0E4|     458130381|2015-01-31 00:08:00|\n",
            "|R1DGA6UQIVLKZ7|    2781942|B007B5V092|     152891509|2015-01-31 00:08:00|\n",
            "| RLQT3V8SMNIBH|     707292|B00IODHGVG|     717335277|2015-01-31 00:08:00|\n",
            "|R3T9GZS2TMXZGM|   31463514|B0035PBHX6|     249533961|2015-01-31 00:08:00|\n",
            "|R24HVAEYP5PLDN|   33475055|B00K1JJWFO|     635791633|2015-01-31 00:08:00|\n",
            "|R32KMAPNV5NJPJ|   16543871|B00S3LJ5EA|     659360184|2015-01-31 00:08:00|\n",
            "| RC7VLPHUT6UAF|   38472651|B00B5QNGN6|     564421014|2015-01-31 00:08:00|\n",
            "|R3G1II8P4KGUAR|   26946211|B00PLE8QF6|     685446417|2015-01-31 00:08:00|\n",
            "|R1UBFCBUALL6S5|   10195727|B00GHUSIU6|     595255086|2015-01-31 00:08:00|\n",
            "|R1WI5NISM6GAUG|   47386264|B0045EJY90|     892920832|2015-01-31 00:08:00|\n",
            "|R27F4OF4BIA4LU|   13000908|B003BT6BM8|     631236454|2015-01-31 00:08:00|\n",
            "+--------------+-----------+----------+--------------+-------------------+\n",
            "only showing top 20 rows\n",
            "\n"
          ],
          "name": "stdout"
        }
      ]
    },
    {
      "cell_type": "code",
      "metadata": {
        "id": "ERxGfDF3SNYq",
        "colab_type": "code",
        "colab": {
          "base_uri": "https://localhost:8080/",
          "height": 136
        },
        "outputId": "5ad3cc3d-49b3-40ff-87ef-06f9dc11b548"
      },
      "source": [
        "# Print schema\n",
        "review_id_df.printSchema()"
      ],
      "execution_count": 12,
      "outputs": [
        {
          "output_type": "stream",
          "text": [
            "root\n",
            " |-- review_id: string (nullable = true)\n",
            " |-- customer_id: integer (nullable = true)\n",
            " |-- product_id: string (nullable = true)\n",
            " |-- product_parent: integer (nullable = true)\n",
            " |-- review_date: timestamp (nullable = true)\n",
            "\n"
          ],
          "name": "stdout"
        }
      ]
    },
    {
      "cell_type": "code",
      "metadata": {
        "id": "I6Suc_icSQOt",
        "colab_type": "code",
        "colab": {
          "base_uri": "https://localhost:8080/",
          "height": 459
        },
        "outputId": "e7324def-3047-4b4f-9f2e-0551e0758e23"
      },
      "source": [
        "# Create product dataframe to match products table\n",
        "products_df = df.select([\"product_id\",\"product_title\"])\n",
        "products_df = products_df.dropDuplicates()\n",
        "products_df.show()"
      ],
      "execution_count": 13,
      "outputs": [
        {
          "output_type": "stream",
          "text": [
            "+----------+--------------------+\n",
            "|product_id|       product_title|\n",
            "+----------+--------------------+\n",
            "|B00JL2498C|Jensen JTA-410-BL...|\n",
            "|B00OUKG3NE|Sennheiser Androi...|\n",
            "|B0083H9R6A|Electrified ELPLP...|\n",
            "|B0097BEE9Q|Apple iPod nano 1...|\n",
            "|B0037Z4MCM|Pyle Marine Sport...|\n",
            "|B00P0BQKBC|Water & Wood Lock...|\n",
            "|B00TP1C1UC|AmazonBasics 6-Ou...|\n",
            "|B005AIF0X4|iHip MVF1030WO Ma...|\n",
            "|B009JJKZSK|Click 'N Dig! Key...|\n",
            "|B00KXDS4VQ|enKo products HDM...|\n",
            "|B009W857SG|TETC Cable (3 Fee...|\n",
            "|B007LG453Y|Tmvel TVM-UK2 Uni...|\n",
            "|B00KFSO0SA|Monoprice 11149 3...|\n",
            "|B00IH5U050|Digital Army Camo...|\n",
            "|B00JDYMPYS|Sylvania SKCR2713...|\n",
            "|B00YDMW0DQ|Sound Intone HD30...|\n",
            "|B00AR0VCXW|Pro-Ject Speed Bo...|\n",
            "|B006BE6WK6|12 PIECE Ear Hook...|\n",
            "|B00TM1CT98|Bose Acoustimass ...|\n",
            "|B00P8D911I|AuraBeam Samsung ...|\n",
            "+----------+--------------------+\n",
            "only showing top 20 rows\n",
            "\n"
          ],
          "name": "stdout"
        }
      ]
    },
    {
      "cell_type": "code",
      "metadata": {
        "id": "n_BzBIjISfGz",
        "colab_type": "code",
        "colab": {
          "base_uri": "https://localhost:8080/",
          "height": 459
        },
        "outputId": "45cfbce4-11ca-4314-da6a-d6cd02723679"
      },
      "source": [
        "# Create customer dataframe to match customers table\n",
        "from pyspark.sql.functions import desc\n",
        "\n",
        "customers_df = df.groupby(\"customer_id\").agg({\"customer_id\":\"count\"})\n",
        "customers_df = customers_df.orderBy(desc(\"count(customer_id)\"))\n",
        "customers_df = customers_df.withColumnRenamed(\"count(customer_id)\", \"customer_count\") \n",
        "customers_df.show()"
      ],
      "execution_count": 14,
      "outputs": [
        {
          "output_type": "stream",
          "text": [
            "+-----------+--------------+\n",
            "|customer_id|customer_count|\n",
            "+-----------+--------------+\n",
            "|   49266466|           234|\n",
            "|   53075795|           200|\n",
            "|   30669680|           190|\n",
            "|   53037408|           180|\n",
            "|   50820654|           171|\n",
            "|   52938899|           166|\n",
            "|   50027179|           159|\n",
            "|   44834233|           159|\n",
            "|   39789300|           154|\n",
            "|   32038204|           149|\n",
            "|   53090839|           140|\n",
            "|   52340667|           135|\n",
            "|   51346302|           132|\n",
            "|   50530418|           132|\n",
            "|   52870270|           118|\n",
            "|   12200139|           117|\n",
            "|   52643790|           113|\n",
            "|   52460215|           112|\n",
            "|   51812418|           112|\n",
            "|   50529300|           107|\n",
            "+-----------+--------------+\n",
            "only showing top 20 rows\n",
            "\n"
          ],
          "name": "stdout"
        }
      ]
    },
    {
      "cell_type": "code",
      "metadata": {
        "id": "hIQfzlr4Sm2-",
        "colab_type": "code",
        "colab": {
          "base_uri": "https://localhost:8080/",
          "height": 459
        },
        "outputId": "0566afe1-91c2-4a1c-8a09-518868196d27"
      },
      "source": [
        "# Create vine dataframe to match vine_table table\n",
        "\n",
        "# Load in a sql function to use columns\n",
        "from pyspark.sql.functions import col\n",
        "\n",
        "vine_table_df = df.select([\"review_id\",\"star_rating\",\"helpful_votes\", \"total_votes\",\"vine\"])\n",
        "\n",
        "# Filter for only columns from Amazon's Vine program\n",
        "#vine_table_df = vine_table_df.filter(col(\"vine\")  == \"Y\")\n",
        "vine_table_df.show()"
      ],
      "execution_count": 15,
      "outputs": [
        {
          "output_type": "stream",
          "text": [
            "+--------------+-----------+-------------+-----------+----+\n",
            "|     review_id|star_rating|helpful_votes|total_votes|vine|\n",
            "+--------------+-----------+-------------+-----------+----+\n",
            "|R2MTG1GCZLR2DK|          5|            0|          0|   N|\n",
            "|R2HBOEM8LE9928|          5|            0|          0|   N|\n",
            "|R1P4RW1R9FDPEE|          5|            1|          1|   N|\n",
            "|R1EBPM82ENI67M|          1|            0|          0|   N|\n",
            "|R372S58V6D11AT|          5|            1|          1|   N|\n",
            "|R1A4514XOYI1PD|          5|            1|          1|   N|\n",
            "|R20D9EHB7N20V6|          5|            0|          0|   N|\n",
            "|R1WUTD8MVSROJU|          5|            0|          0|   N|\n",
            "|R1QCYLT25812DM|          4|            0|          0|   N|\n",
            "| R904DQPBCEM7A|          4|            0|          0|   N|\n",
            "|R1DGA6UQIVLKZ7|          5|            0|          0|   N|\n",
            "| RLQT3V8SMNIBH|          5|            0|          0|   N|\n",
            "|R3T9GZS2TMXZGM|          1|            0|          0|   N|\n",
            "|R24HVAEYP5PLDN|          5|            0|          1|   N|\n",
            "|R32KMAPNV5NJPJ|          5|            0|          0|   N|\n",
            "| RC7VLPHUT6UAF|          5|            0|          0|   N|\n",
            "|R3G1II8P4KGUAR|          5|            0|          0|   N|\n",
            "|R1UBFCBUALL6S5|          5|            0|          0|   N|\n",
            "|R1WI5NISM6GAUG|          2|            4|          5|   N|\n",
            "|R27F4OF4BIA4LU|          2|            1|          1|   N|\n",
            "+--------------+-----------+-------------+-----------+----+\n",
            "only showing top 20 rows\n",
            "\n"
          ],
          "name": "stdout"
        }
      ]
    },
    {
      "cell_type": "code",
      "metadata": {
        "id": "8QV_vR4zUI7l",
        "colab_type": "code",
        "colab": {
          "base_uri": "https://localhost:8080/",
          "height": 459
        },
        "outputId": "ef0ce7ab-70be-4653-94db-3fbaedf8c403"
      },
      "source": [
        "# Filter for only columns from Amazon's Vine program\n",
        "Y_vine_table_df = vine_table_df.filter(col(\"vine\")  == \"Y\")\n",
        "Y_vine_table_df.show()"
      ],
      "execution_count": 16,
      "outputs": [
        {
          "output_type": "stream",
          "text": [
            "+--------------+-----------+-------------+-----------+----+\n",
            "|     review_id|star_rating|helpful_votes|total_votes|vine|\n",
            "+--------------+-----------+-------------+-----------+----+\n",
            "|R1T7X1RPWYTRBU|          5|            2|          4|   Y|\n",
            "| RJFGZBIFXCC65|          5|            0|          0|   Y|\n",
            "| RSZ6RLTTGWUN6|          5|            0|          1|   Y|\n",
            "|R2N4GVP3Q5PF9Y|          3|            2|          3|   Y|\n",
            "| RCAFL1X52MFZM|          5|            1|          2|   Y|\n",
            "|R17D8E4KO0FS83|          5|            1|          1|   Y|\n",
            "|R184FOUNZZ7KO8|          5|           15|         20|   Y|\n",
            "|R2SP52AJMIERZ5|          3|            0|          0|   Y|\n",
            "|R15VB3EZ2C0W3J|          4|            0|          0|   Y|\n",
            "|R3CMY924EQEGIU|          4|            0|          0|   Y|\n",
            "|R2T1AAO75DGP6C|          4|            0|          0|   Y|\n",
            "|R2AYZV2RYCKIDO|          4|            1|          1|   Y|\n",
            "|R3BEI48BY6XIRV|          3|            0|          0|   Y|\n",
            "|R2PLGJM0MUI41A|          5|            1|          2|   Y|\n",
            "|R3PRKX2K7HFARK|          4|            0|          0|   Y|\n",
            "|R261AQP6TBDXZK|          3|            0|          0|   Y|\n",
            "|R2B2RYH8VXXFNO|          5|            9|         10|   Y|\n",
            "|R2WMMK2LY6SJV3|          3|            2|          3|   Y|\n",
            "|R3U42JCRW1PCUN|          3|            3|          7|   Y|\n",
            "|R3JLX3WLHL46OD|          5|           11|         13|   Y|\n",
            "+--------------+-----------+-------------+-----------+----+\n",
            "only showing top 20 rows\n",
            "\n"
          ],
          "name": "stdout"
        }
      ]
    },
    {
      "cell_type": "markdown",
      "metadata": {
        "id": "UmxDQW-dipAo",
        "colab_type": "text"
      },
      "source": [
        "## Load"
      ]
    },
    {
      "cell_type": "code",
      "metadata": {
        "id": "bkRUC-CCUclv",
        "colab_type": "code",
        "colab": {}
      },
      "source": [
        "# Configure settings for RDS\n",
        "mode = \"append\"\n",
        "jdbc_url=\"jdbc:postgresql://dataviz.clw759vfh14c.us-east-2.rds.amazonaws.com:5432/my_data_class_db\"\n",
        "config = {\"user\":\"postgres\", \n",
        "          \"password\": \"f9dLM910&%S%\", \n",
        "          \"driver\":\"org.postgresql.Driver\"}"
      ],
      "execution_count": 17,
      "outputs": []
    },
    {
      "cell_type": "code",
      "metadata": {
        "id": "b5SFWC53GBFS",
        "colab_type": "code",
        "colab": {}
      },
      "source": [
        "# Write DataFrame to review_id_df table in RDS\n",
        "\n",
        "#review_id_df.write.jdbc(url=jdbc_url, table='review_id_table', mode=mode, properties=config)"
      ],
      "execution_count": 18,
      "outputs": []
    },
    {
      "cell_type": "code",
      "metadata": {
        "id": "CgT_0kbbXARn",
        "colab_type": "code",
        "colab": {}
      },
      "source": [
        "# Write DataFrame to products table in RDS\n",
        "\n",
        "#products_df.write.jdbc(url=jdbc_url, table='products', mode=mode, properties=config)"
      ],
      "execution_count": 19,
      "outputs": []
    },
    {
      "cell_type": "code",
      "metadata": {
        "id": "LTYAAp_NXEX4",
        "colab_type": "code",
        "colab": {}
      },
      "source": [
        "# Write DataFrame to customers table in RDS\n",
        "\n",
        "#customers_df.write.jdbc(url=jdbc_url, table='customers', mode=mode, properties=config)"
      ],
      "execution_count": 20,
      "outputs": []
    },
    {
      "cell_type": "code",
      "metadata": {
        "id": "DiDXwK3dXHR2",
        "colab_type": "code",
        "colab": {}
      },
      "source": [
        "\n",
        "# Write DataFrame to vine_table table in RDS\n",
        "\n",
        "#vine_table_df.write.jdbc(url=jdbc_url, table='vine_table', mode=mode, properties=config)"
      ],
      "execution_count": 21,
      "outputs": []
    },
    {
      "cell_type": "markdown",
      "metadata": {
        "id": "1LHbBidyN2GH",
        "colab_type": "text"
      },
      "source": [
        "## Analysis of Whether Vine Reviews Are Trustworthy"
      ]
    },
    {
      "cell_type": "code",
      "metadata": {
        "id": "Rv_L2qv3N_BF",
        "colab_type": "code",
        "colab": {
          "base_uri": "https://localhost:8080/",
          "height": 102
        },
        "outputId": "d1d5f246-957b-42a9-cbd6-07fc37aef92d"
      },
      "source": [
        "# Load dependencies\n",
        "!pip install psycopg2-binary\n",
        "import psycopg2\n"
      ],
      "execution_count": 4,
      "outputs": [
        {
          "output_type": "stream",
          "text": [
            "Collecting psycopg2-binary\n",
            "\u001b[?25l  Downloading https://files.pythonhosted.org/packages/d3/8a/a7ed55c2c55bd4f5844d72734fedc0cef8a74518a0a19105a21c15628f1e/psycopg2_binary-2.8.5-cp36-cp36m-manylinux1_x86_64.whl (2.9MB)\n",
            "\u001b[K     |████████████████████████████████| 2.9MB 2.8MB/s \n",
            "\u001b[?25hInstalling collected packages: psycopg2-binary\n",
            "Successfully installed psycopg2-binary-2.8.5\n"
          ],
          "name": "stdout"
        }
      ]
    },
    {
      "cell_type": "code",
      "metadata": {
        "id": "xWz3bb6IgYCl",
        "colab_type": "code",
        "colab": {
          "base_uri": "https://localhost:8080/",
          "height": 105
        },
        "outputId": "f3609675-de92-4888-eac9-60eb6415ff6f"
      },
      "source": [
        "# Connect to Postgres db\n",
        "try:\n",
        "    connection = psycopg2.connect(user = \"postgres\",\n",
        "                                  password = \"f9dLM910&%S%\",\n",
        "                                  host = \"dataviz.clw759vfh14c.us-east-2.rds.amazonaws.com\",\n",
        "                                  port = \"5432\",\n",
        "                                  database = \"my_data_class_db\")\n",
        "\n",
        "    cursor = connection.cursor()\n",
        "    # Print PostgreSQL Connection properties\n",
        "    print ( connection.get_dsn_parameters(),\"\\n\")\n",
        "\n",
        "    # Print PostgreSQL version\n",
        "    cursor.execute(\"SELECT version();\")\n",
        "    record = cursor.fetchone()\n",
        "    print(\"You are connected to - \", record,\"\\n\")\n",
        "\n",
        "except (Exception, psycopg2.Error) as error :\n",
        "    print (\"Error while connecting to PostgreSQL\", error)"
      ],
      "execution_count": 38,
      "outputs": [
        {
          "output_type": "stream",
          "text": [
            "{'user': 'postgres', 'dbname': 'my_data_class_db', 'host': 'dataviz.clw759vfh14c.us-east-2.rds.amazonaws.com', 'port': '5432', 'tty': '', 'options': '', 'sslmode': 'prefer', 'sslcompression': '0', 'krbsrvname': 'postgres', 'target_session_attrs': 'any'} \n",
            "\n",
            "You are connected to -  ('PostgreSQL 11.6 on x86_64-pc-linux-gnu, compiled by gcc (GCC) 4.8.3 20140911 (Red Hat 4.8.3-9), 64-bit',) \n",
            "\n"
          ],
          "name": "stdout"
        }
      ]
    },
    {
      "cell_type": "code",
      "metadata": {
        "id": "M7cALCFel1cg",
        "colab_type": "code",
        "colab": {
          "base_uri": "https://localhost:8080/",
          "height": 34
        },
        "outputId": "fec85f69-1128-483c-ad0f-86149ec39623"
      },
      "source": [
        "   \n",
        "   postgreSQL_select_Query = \"select * from vine_table where vine = 'Y'\"\n",
        "\n",
        "   cursor.execute(postgreSQL_select_Query)\n",
        "   print(\"Selecting rows from vine using cursor.fetchall\")\n",
        "   vine = cursor.fetchall() \n"
      ],
      "execution_count": 67,
      "outputs": [
        {
          "output_type": "stream",
          "text": [
            "Selecting rows from vine using cursor.fetchall\n"
          ],
          "name": "stdout"
        }
      ]
    },
    {
      "cell_type": "code",
      "metadata": {
        "id": "U9SFCccoqOH-",
        "colab_type": "code",
        "colab": {}
      },
      "source": [
        "import pandas as pd\n",
        "\n",
        "vine_df = pd.DataFrame(vine, columns=[\"review_id\", \"star_rating\", \"helpful_votes\", \"total_votes\", \"vine\"])"
      ],
      "execution_count": 45,
      "outputs": []
    },
    {
      "cell_type": "code",
      "metadata": {
        "id": "YQom-vCNyXFR",
        "colab_type": "code",
        "colab": {
          "base_uri": "https://localhost:8080/",
          "height": 419
        },
        "outputId": "91c14bb8-507b-4c03-df10-4fb38fc163fb"
      },
      "source": [
        "vine_df"
      ],
      "execution_count": 68,
      "outputs": [
        {
          "output_type": "execute_result",
          "data": {
            "text/html": [
              "<div>\n",
              "<style scoped>\n",
              "    .dataframe tbody tr th:only-of-type {\n",
              "        vertical-align: middle;\n",
              "    }\n",
              "\n",
              "    .dataframe tbody tr th {\n",
              "        vertical-align: top;\n",
              "    }\n",
              "\n",
              "    .dataframe thead th {\n",
              "        text-align: right;\n",
              "    }\n",
              "</style>\n",
              "<table border=\"1\" class=\"dataframe\">\n",
              "  <thead>\n",
              "    <tr style=\"text-align: right;\">\n",
              "      <th></th>\n",
              "      <th>review_id</th>\n",
              "      <th>star_rating</th>\n",
              "      <th>helpful_votes</th>\n",
              "      <th>total_votes</th>\n",
              "      <th>vine</th>\n",
              "    </tr>\n",
              "  </thead>\n",
              "  <tbody>\n",
              "    <tr>\n",
              "      <th>0</th>\n",
              "      <td>R1T7X1RPWYTRBU</td>\n",
              "      <td>5</td>\n",
              "      <td>2</td>\n",
              "      <td>4</td>\n",
              "      <td>Y</td>\n",
              "    </tr>\n",
              "    <tr>\n",
              "      <th>1</th>\n",
              "      <td>RJFGZBIFXCC65</td>\n",
              "      <td>5</td>\n",
              "      <td>0</td>\n",
              "      <td>0</td>\n",
              "      <td>Y</td>\n",
              "    </tr>\n",
              "    <tr>\n",
              "      <th>2</th>\n",
              "      <td>RSZ6RLTTGWUN6</td>\n",
              "      <td>5</td>\n",
              "      <td>0</td>\n",
              "      <td>1</td>\n",
              "      <td>Y</td>\n",
              "    </tr>\n",
              "    <tr>\n",
              "      <th>3</th>\n",
              "      <td>R2N4GVP3Q5PF9Y</td>\n",
              "      <td>3</td>\n",
              "      <td>2</td>\n",
              "      <td>3</td>\n",
              "      <td>Y</td>\n",
              "    </tr>\n",
              "    <tr>\n",
              "      <th>4</th>\n",
              "      <td>RCAFL1X52MFZM</td>\n",
              "      <td>5</td>\n",
              "      <td>1</td>\n",
              "      <td>2</td>\n",
              "      <td>Y</td>\n",
              "    </tr>\n",
              "    <tr>\n",
              "      <th>...</th>\n",
              "      <td>...</td>\n",
              "      <td>...</td>\n",
              "      <td>...</td>\n",
              "      <td>...</td>\n",
              "      <td>...</td>\n",
              "    </tr>\n",
              "    <tr>\n",
              "      <th>18507</th>\n",
              "      <td>RD4IPYAK8Z7NJ</td>\n",
              "      <td>4</td>\n",
              "      <td>6</td>\n",
              "      <td>9</td>\n",
              "      <td>Y</td>\n",
              "    </tr>\n",
              "    <tr>\n",
              "      <th>18508</th>\n",
              "      <td>R3BJ8VBZ0FVAH9</td>\n",
              "      <td>4</td>\n",
              "      <td>21</td>\n",
              "      <td>24</td>\n",
              "      <td>Y</td>\n",
              "    </tr>\n",
              "    <tr>\n",
              "      <th>18509</th>\n",
              "      <td>R3PZCB4HLG1VM3</td>\n",
              "      <td>5</td>\n",
              "      <td>19</td>\n",
              "      <td>21</td>\n",
              "      <td>Y</td>\n",
              "    </tr>\n",
              "    <tr>\n",
              "      <th>18510</th>\n",
              "      <td>R2KKSA5G8A8V9B</td>\n",
              "      <td>4</td>\n",
              "      <td>25</td>\n",
              "      <td>30</td>\n",
              "      <td>Y</td>\n",
              "    </tr>\n",
              "    <tr>\n",
              "      <th>18511</th>\n",
              "      <td>R3U4ID2IVT2HN1</td>\n",
              "      <td>3</td>\n",
              "      <td>2</td>\n",
              "      <td>2</td>\n",
              "      <td>Y</td>\n",
              "    </tr>\n",
              "  </tbody>\n",
              "</table>\n",
              "<p>18512 rows × 5 columns</p>\n",
              "</div>"
            ],
            "text/plain": [
              "            review_id  star_rating  helpful_votes  total_votes vine\n",
              "0      R1T7X1RPWYTRBU            5              2            4    Y\n",
              "1       RJFGZBIFXCC65            5              0            0    Y\n",
              "2       RSZ6RLTTGWUN6            5              0            1    Y\n",
              "3      R2N4GVP3Q5PF9Y            3              2            3    Y\n",
              "4       RCAFL1X52MFZM            5              1            2    Y\n",
              "...               ...          ...            ...          ...  ...\n",
              "18507   RD4IPYAK8Z7NJ            4              6            9    Y\n",
              "18508  R3BJ8VBZ0FVAH9            4             21           24    Y\n",
              "18509  R3PZCB4HLG1VM3            5             19           21    Y\n",
              "18510  R2KKSA5G8A8V9B            4             25           30    Y\n",
              "18511  R3U4ID2IVT2HN1            3              2            2    Y\n",
              "\n",
              "[18512 rows x 5 columns]"
            ]
          },
          "metadata": {
            "tags": []
          },
          "execution_count": 68
        }
      ]
    },
    {
      "cell_type": "code",
      "metadata": {
        "id": "3Bzd4aVosyAD",
        "colab_type": "code",
        "colab": {
          "base_uri": "https://localhost:8080/",
          "height": 170
        },
        "outputId": "d2e6e13a-1da9-4c53-a1b3-80f822639568"
      },
      "source": [
        "print(vine_df.describe())"
      ],
      "execution_count": 94,
      "outputs": [
        {
          "output_type": "stream",
          "text": [
            "        star_rating  helpful_votes   total_votes\n",
            "count  18512.000000   18512.000000  18512.000000\n",
            "mean       4.135048       5.824654      7.212565\n",
            "std        0.962940      37.449657     40.058811\n",
            "min        1.000000       0.000000      0.000000\n",
            "25%        4.000000       0.000000      0.000000\n",
            "50%        4.000000       1.000000      2.000000\n",
            "75%        5.000000       3.000000      5.000000\n",
            "max        5.000000    2561.000000   2688.000000\n"
          ],
          "name": "stdout"
        }
      ]
    },
    {
      "cell_type": "code",
      "metadata": {
        "id": "8KyvGCrutTE_",
        "colab_type": "code",
        "colab": {
          "base_uri": "https://localhost:8080/",
          "height": 34
        },
        "outputId": "5436f662-b0d8-43c2-adf8-82aacccc5316"
      },
      "source": [
        "   postgreSQL_select_Query = \"select * from vine_table where vine = 'N'\"\n",
        "\n",
        "   cursor.execute(postgreSQL_select_Query)\n",
        "   print(\"Selecting rows from not vine using cursor.fetchall\")\n",
        "   not_vine = cursor.fetchall() \n",
        " "
      ],
      "execution_count": 56,
      "outputs": [
        {
          "output_type": "stream",
          "text": [
            "Selecting rows from not vine using cursor.fetchall\n"
          ],
          "name": "stdout"
        }
      ]
    },
    {
      "cell_type": "code",
      "metadata": {
        "id": "xPQal5r9ulDZ",
        "colab_type": "code",
        "colab": {
          "base_uri": "https://localhost:8080/",
          "height": 255
        },
        "outputId": "833d187e-8c97-484f-fb89-b1a68276f05c"
      },
      "source": [
        "not_vine_df = pd.DataFrame(not_vine, columns=[\"review_id\", \"star_rating\", \"helpful_votes\", \"total_votes\", \"vine\"])\n",
        "print(not_vine_df)"
      ],
      "execution_count": 64,
      "outputs": [
        {
          "output_type": "stream",
          "text": [
            "              review_id  star_rating  helpful_votes  total_votes vine\n",
            "0        R2MTG1GCZLR2DK            5              0            0    N\n",
            "1        R2HBOEM8LE9928            5              0            0    N\n",
            "2        R1P4RW1R9FDPEE            5              1            1    N\n",
            "3        R1EBPM82ENI67M            1              0            0    N\n",
            "4        R372S58V6D11AT            5              1            1    N\n",
            "...                 ...          ...            ...          ...  ...\n",
            "3075143   RZ3LLAKIZQ3RR            5              0            0    N\n",
            "3075144  R1V8GVI67B7V0K            5              0            0    N\n",
            "3075145  R3BDESK5VUNK8C            5              5            5    N\n",
            "3075146  R1JJGM0JWVT7DV            5              3            3    N\n",
            "3075147  R30PZG0PCGR2V0            1              7            9    N\n",
            "\n",
            "[3075148 rows x 5 columns]\n"
          ],
          "name": "stdout"
        }
      ]
    },
    {
      "cell_type": "code",
      "metadata": {
        "id": "2NlRr0lpwQ85",
        "colab_type": "code",
        "colab": {
          "base_uri": "https://localhost:8080/",
          "height": 170
        },
        "outputId": "1bbcbec1-9f14-4d3f-fc8d-90153eb9deae"
      },
      "source": [
        "print(not_vine_df.describe())"
      ],
      "execution_count": 95,
      "outputs": [
        {
          "output_type": "stream",
          "text": [
            "        star_rating  helpful_votes   total_votes\n",
            "count  3.075148e+06   3.075148e+06  3.075148e+06\n",
            "mean   4.034911e+00   1.835739e+00  2.341779e+00\n",
            "std    1.389569e+00   2.119184e+01  2.233693e+01\n",
            "min    1.000000e+00   0.000000e+00  0.000000e+00\n",
            "25%    3.000000e+00   0.000000e+00  0.000000e+00\n",
            "50%    5.000000e+00   0.000000e+00  0.000000e+00\n",
            "75%    5.000000e+00   1.000000e+00  1.000000e+00\n",
            "max    5.000000e+00   1.278600e+04  1.294400e+04\n"
          ],
          "name": "stdout"
        }
      ]
    },
    {
      "cell_type": "code",
      "metadata": {
        "id": "5sElsRqCzBEp",
        "colab_type": "code",
        "colab": {}
      },
      "source": [
        "# Do a t-test of the means between Vine and Non-vine Reviews\n",
        "## Load dependencies\n",
        "import scipy.stats\n",
        "from scipy.stats import ttest_ind"
      ],
      "execution_count": 73,
      "outputs": []
    },
    {
      "cell_type": "code",
      "metadata": {
        "id": "exIyQoGe2Zjw",
        "colab_type": "code",
        "colab": {
          "base_uri": "https://localhost:8080/",
          "height": 51
        },
        "outputId": "72e45cc1-f63b-4200-dd07-dc43a2453e64"
      },
      "source": [
        "# Compare the star rating between Vine and Non-Vine groups using t-test\n",
        "vine_star_rating = vine_df['star_rating']\n",
        "not_vine_star_rating = not_vine_df['star_rating']\n",
        "t, p = ttest_ind(vine_star_rating, not_vine_star_rating)\n",
        "print(\"t = \" + str(t))\n",
        "print(\"p = \" + str(p))"
      ],
      "execution_count": 90,
      "outputs": [
        {
          "output_type": "stream",
          "text": [
            "t = 9.79064893112825\n",
            "p = 1.2359432482650555e-22\n"
          ],
          "name": "stdout"
        }
      ]
    },
    {
      "cell_type": "code",
      "metadata": {
        "id": "FZQLYTyx5SNI",
        "colab_type": "code",
        "colab": {
          "base_uri": "https://localhost:8080/",
          "height": 51
        },
        "outputId": "e6507686-caec-40b0-cff4-06832e68d0c9"
      },
      "source": [
        "# Compare the helpful votes using t-test\n",
        "vine_helpful_votes = vine_df['helpful_votes']\n",
        "not_vine_helpful_votes = not_vine_df['helpful_votes']\n",
        "t1, p1 = ttest_ind(vine_helpful_votes, not_vine_helpful_votes)\n",
        "print(\"t = \" + str(t1))\n",
        "print(\"p = \" + str(p1))"
      ],
      "execution_count": 91,
      "outputs": [
        {
          "output_type": "stream",
          "text": [
            "t = 25.372810330639105\n",
            "p = 5.206488915984731e-142\n"
          ],
          "name": "stdout"
        }
      ]
    },
    {
      "cell_type": "code",
      "metadata": {
        "id": "KGM4__nh4oLJ",
        "colab_type": "code",
        "colab": {
          "base_uri": "https://localhost:8080/",
          "height": 51
        },
        "outputId": "f755fe77-8290-462d-a738-d06d19d7a7cc"
      },
      "source": [
        "# Compare the total votes using t-test\n",
        "vine_total_votes = vine_df['total_votes']\n",
        "not_vine_total_votes = not_vine_df['total_votes']\n",
        "t2, p2 = ttest_ind(vine_total_votes, not_vine_total_votes)\n",
        "print(\"t = \" + str(t2))\n",
        "print(\"p = \" + str(p2))"
      ],
      "execution_count": 92,
      "outputs": [
        {
          "output_type": "stream",
          "text": [
            "t = 29.385853464583047\n",
            "p = 8.845451954852947e-190\n"
          ],
          "name": "stdout"
        }
      ]
    },
    {
      "cell_type": "code",
      "metadata": {
        "id": "QvcgJINxkBRY",
        "colab_type": "code",
        "colab": {
          "base_uri": "https://localhost:8080/",
          "height": 34
        },
        "outputId": "a51699df-73df-4bfc-a2a8-51316d415ecf"
      },
      "source": [
        "# Close Postgres connection\n",
        "try:\n",
        "    connection = psycopg2.connect(user = \"postgres\",\n",
        "                                  password = \"f9dLM910&%S%\",\n",
        "                                  host = \"dataviz.clw759vfh14c.us-east-2.rds.amazonaws.com\",\n",
        "                                  port = \"5432\",\n",
        "                                  database = \"my_data_class_db\")\n",
        "\n",
        "finally:\n",
        "    #closing database connection.\n",
        "        if(connection):\n",
        "            cursor.close()\n",
        "            connection.close()\n",
        "            print(\"PostgreSQL connection is closed\")"
      ],
      "execution_count": 93,
      "outputs": [
        {
          "output_type": "stream",
          "text": [
            "PostgreSQL connection is closed\n"
          ],
          "name": "stdout"
        }
      ]
    },
    {
      "cell_type": "code",
      "metadata": {
        "id": "mxEQ6aRgpGpH",
        "colab_type": "code",
        "colab": {}
      },
      "source": [
        ""
      ],
      "execution_count": 36,
      "outputs": []
    }
  ]
}